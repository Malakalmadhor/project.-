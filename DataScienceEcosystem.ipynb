{
 "cells": [
  {
   "cell_type": "code",
   "execution_count": null,
   "id": "765c567e-f44f-402f-abf7-122e99848203",
   "metadata": {},
   "outputs": [],
   "source": []
  },
  {
   "cell_type": "markdown",
   "id": "e999191d-f49a-4a6a-aa85-d26ae75cdcff",
   "metadata": {},
   "source": [
    "# Data Science Tools and Ecosystem"
   ]
  },
  {
   "cell_type": "markdown",
   "id": "c9bbae11-acc8-420b-81eb-ad3dbc819638",
   "metadata": {},
   "source": [
    "In this notebook, Data Science Tools and Ecosystem are summarized."
   ]
  },
  {
   "cell_type": "markdown",
   "id": "668eedff-6364-4530-8f56-b0d87840ece3",
   "metadata": {},
   "source": [
    "<b>Objectives:</b>"
   ]
  },
  {
   "cell_type": "markdown",
   "id": "6929b70a-b267-4455-b0c6-ed6928598308",
   "metadata": {},
   "source": [
    "<ul>\n",
    "<li>List popular languages for Data Science</li>\n",
    "<li>commonly used libraries used by Data Scientists</li>\n",
    "<li>few examples of evaluating arithmetic expressions in Python</li>\n",
    "</ul>\n",
    "\n"
   ]
  },
  {
   "cell_type": "markdown",
   "id": "0bf2b100-1b41-42ea-aeeb-af3a2939e0d0",
   "metadata": {},
   "source": [
    "Some of the popular languages that Data Scientists use are:\n"
   ]
  },
  {
   "cell_type": "markdown",
   "id": "8abb103d-f55a-4dfb-a93f-ab4b10bf53ea",
   "metadata": {},
   "source": [
    "<ol>\n",
    "<li>Python</li>\n",
    "<li>R</li>\n",
    "<li>JavaScript</li>\n",
    "</ol>8-multiplyandaddintegers.png"
   ]
  },
  {
   "cell_type": "markdown",
   "id": "bb4f8da8-96c6-436d-abf4-be4dc268eb7c",
   "metadata": {},
   "source": [
    "Some of the commonly used libraries used by Data Scientists include:"
   ]
  },
  {
   "cell_type": "markdown",
   "id": "f727104d-3f28-4aab-9c20-a9174d1c8bcc",
   "metadata": {},
   "source": [
    "<ol>\n",
    "<li>numpy</li>\n",
    "<li>keras</li>\n",
    "<li>pandas</li>\n",
    "</ol>"
   ]
  },
  {
   "cell_type": "markdown",
   "id": "47666f2d-353e-41f9-84ce-8ca6510e6675",
   "metadata": {},
   "source": [
    "|Data Science Tools|\n",
    "| -------------|\n",
    "| Apache Spark|\n",
    "| TensorFlow |\n",
    "|Apache Hadoop|"
   ]
  },
  {
   "cell_type": "markdown",
   "id": "0b51e004-afb9-405d-b441-eef7e3bf3ce7",
   "metadata": {},
   "source": [
    "### Below are a few examples of evaluating arithmetic expressions in Python"
   ]
  },
  {
   "cell_type": "markdown",
   "id": "93f34e2f-40e8-4e9f-9f66-ed781d4f9d77",
   "metadata": {},
   "source": [
    "This a simple arithmetic expression to mutiply then add integers"
   ]
  },
  {
   "cell_type": "code",
   "execution_count": 2,
   "id": "3facb8ed-ed52-408e-a4da-fc856181faa1",
   "metadata": {
    "tags": []
   },
   "outputs": [
    {
     "data": {
      "text/plain": [
       "17"
      ]
     },
     "execution_count": 2,
     "metadata": {},
     "output_type": "execute_result"
    }
   ],
   "source": [
    "(3*4)+5"
   ]
  },
  {
   "cell_type": "markdown",
   "id": "c6147bc7-fa70-4a89-b9c7-0348d3bdb079",
   "metadata": {},
   "source": [
    "This will convert 200 minutes to hours by diving by 60"
   ]
  },
  {
   "cell_type": "code",
   "execution_count": 6,
   "id": "48234962-51d0-424c-9b0b-d16b13cd2b85",
   "metadata": {
    "tags": []
   },
   "outputs": [
    {
     "name": "stdout",
     "output_type": "stream",
     "text": [
      "200 minutes is equal to 3.3333333333333335 hours\n"
     ]
    }
   ],
   "source": [
    "def minutes_to_hours(minutes):\n",
    "    hours = minutes / 60\n",
    "    return hours\n",
    "minutes = 200\n",
    "hours_result = minutes_to_hours(minutes)\n",
    "print(f\"{minutes} minutes is equal to {hours_result} hours\")"
   ]
  },
  {
   "cell_type": "markdown",
   "id": "41090615-faf7-4c42-8c9c-3ae502fe8f0d",
   "metadata": {},
   "source": [
    "## Author"
   ]
  },
  {
   "cell_type": "markdown",
   "id": "432d332e-87e8-40c3-96b5-cb509b713fe7",
   "metadata": {},
   "source": [
    "Malak almadhor\n"
   ]
  },
  {
   "cell_type": "code",
   "execution_count": null,
   "id": "e9ccd538-9357-43ff-9626-46542ebfcdb6",
   "metadata": {},
   "outputs": [],
   "source": []
  }
 ],
 "metadata": {
  "kernelspec": {
   "display_name": "Python 3 (ipykernel)",
   "language": "python",
   "name": "python3"
  },
  "language_info": {
   "codemirror_mode": {
    "name": "ipython",
    "version": 3
   },
   "file_extension": ".py",
   "mimetype": "text/x-python",
   "name": "python",
   "nbconvert_exporter": "python",
   "pygments_lexer": "ipython3",
   "version": "3.11.5"
  }
 },
 "nbformat": 4,
 "nbformat_minor": 5
}
